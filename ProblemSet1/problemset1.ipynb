{
 "cells": [
  {
   "cell_type": "code",
   "execution_count": 2,
   "metadata": {
    "collapsed": false
   },
   "outputs": [
    {
     "name": "stdout",
     "output_type": "stream",
     "text": [
      "Number of vowels: 5\n"
     ]
    }
   ],
   "source": [
    "#problem1 Counting Vowels\n",
    "s = 'azcbobobegghakl'\n",
    "vowels = 'aeiou'\n",
    "def vowelsCount(s):\n",
    "    count = 0\n",
    "    for a in s:\n",
    "        if a in vowels:\n",
    "            count = count + 1\n",
    "    return count\n",
    "\n",
    "total = vowelsCount(s)\n",
    "print \"Number of vowels: \" + str(total)"
   ]
  },
  {
   "cell_type": "code",
   "execution_count": 14,
   "metadata": {
    "collapsed": false
   },
   "outputs": [
    {
     "name": "stdout",
     "output_type": "stream",
     "text": [
      "Number of times bob occurs is: 2\n"
     ]
    }
   ],
   "source": [
    "#problem2 Counting Bobs\n",
    "s = 'azcbobobegghakl'\n",
    "\n",
    "def countBobs(s):\n",
    "    numBobs = 0\n",
    "    for i in range(1, len(s)-1):\n",
    "        if s[i-1:i+2]=='bob':\n",
    "            numBobs += 1\n",
    "    return numBobs\n",
    "bobs = countBobs(s) \n",
    "print 'Number of times bob occurs is:', bobs\n"
   ]
  },
  {
   "cell_type": "code",
   "execution_count": 1,
   "metadata": {
    "collapsed": false
   },
   "outputs": [
    {
     "name": "stdout",
     "output_type": "stream",
     "text": [
      "salad:2 hamburger:2 water:1\n"
     ]
    }
   ],
   "source": [
    "#problem3 Counting and Grouping\n",
    "order = \"salad water hamburger salad hamburger\"\n",
    "\n",
    "def item_order(order):\n",
    "    salad = 0\n",
    "    hamburger = 0\n",
    "    water = 0\n",
    "    \n",
    "    startspace = 0    \n",
    "    space = 0\n",
    "    while space > -1:\n",
    "        space = order.find(' ', startspace)\n",
    "        if space == -1:\n",
    "            word = order[startspace:]\n",
    "        else:\n",
    "            word = order[startspace:space]\n",
    "        if word == \"salad\":\n",
    "            salad += 1\n",
    "        if word == \"hamburger\":\n",
    "            hamburger += 1\n",
    "        if word == \"water\":\n",
    "            water += 1\n",
    "        startspace = space+1\n",
    "    neworder = \"salad:\"+str(salad)+\" hamburger:\"+str(hamburger)+\" water:\"+str(water)\n",
    "    return neworder\n",
    "\n",
    "s = item_order(order)\n",
    "print s\n",
    "    \n",
    "    \n",
    "    \n"
   ]
  },
  {
   "cell_type": "code",
   "execution_count": 12,
   "metadata": {
    "collapsed": false
   },
   "outputs": [
    {
     "name": "stdout",
     "output_type": "stream",
     "text": [
      "salad\n"
     ]
    }
   ],
   "source": [
    "order = \"salad water hamburger salad hamburger\"\n",
    "startspace = 0    \n",
    "space = 0\n",
    "space = order.find(' ', startspace)\n",
    "word = order[startspace:space]\n",
    "print word"
   ]
  },
  {
   "cell_type": "code",
   "execution_count": null,
   "metadata": {
    "collapsed": true
   },
   "outputs": [],
   "source": []
  }
 ],
 "metadata": {
  "kernelspec": {
   "display_name": "Python 2",
   "language": "python",
   "name": "python2"
  },
  "language_info": {
   "codemirror_mode": {
    "name": "ipython",
    "version": 2
   },
   "file_extension": ".py",
   "mimetype": "text/x-python",
   "name": "python",
   "nbconvert_exporter": "python",
   "pygments_lexer": "ipython2",
   "version": "2.7.11"
  }
 },
 "nbformat": 4,
 "nbformat_minor": 0
}
